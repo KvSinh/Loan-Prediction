{
 "cells": [
  {
   "cell_type": "markdown",
   "id": "muslim-throat",
   "metadata": {},
   "source": [
    "### _Importing Libraries_"
   ]
  },
  {
   "cell_type": "code",
   "execution_count": 1,
   "id": "alpine-india",
   "metadata": {},
   "outputs": [],
   "source": [
    "import pandas as pd\n",
    "import numpy as np\n",
    "import matplotlib.pyplot as plt\n",
    "import seaborn as sns\n",
    "%matplotlib inline\n",
    "import warnings\n",
    "warnings.filterwarnings(\"ignore\")"
   ]
  },
  {
   "cell_type": "markdown",
   "id": "continuous-bouquet",
   "metadata": {},
   "source": [
    "### _Loading Data and Creating a Copy_"
   ]
  },
  {
   "cell_type": "code",
   "execution_count": 2,
   "id": "coral-sacrifice",
   "metadata": {},
   "outputs": [],
   "source": [
    "train= pd.read_csv('LoanPredTrain.csv')\n",
    "test= pd.read_csv('LoanPredTest.csv')"
   ]
  },
  {
   "cell_type": "code",
   "execution_count": 3,
   "id": "legislative-country",
   "metadata": {},
   "outputs": [],
   "source": [
    "train_original= train.copy()\n",
    "test_original = test.copy()"
   ]
  },
  {
   "cell_type": "markdown",
   "id": "bored-pakistan",
   "metadata": {},
   "source": [
    "### _Observing Features, Target Variables and their Datatype_"
   ]
  },
  {
   "cell_type": "code",
   "execution_count": 4,
   "id": "continuous-toddler",
   "metadata": {},
   "outputs": [
    {
     "data": {
      "text/plain": [
       "Index(['Loan_ID', 'Gender', 'Married', 'Dependents', 'Education',\n",
       "       'Self_Employed', 'ApplicantIncome', 'CoapplicantIncome', 'LoanAmount',\n",
       "       'Loan_Amount_Term', 'Credit_History', 'Property_Area', 'Loan_Status'],\n",
       "      dtype='object')"
      ]
     },
     "execution_count": 4,
     "metadata": {},
     "output_type": "execute_result"
    }
   ],
   "source": [
    "train.columns"
   ]
  },
  {
   "cell_type": "code",
   "execution_count": 5,
   "id": "proof-neutral",
   "metadata": {},
   "outputs": [
    {
     "data": {
      "text/plain": [
       "Index(['Loan_ID', 'Gender', 'Married', 'Dependents', 'Education',\n",
       "       'Self_Employed', 'ApplicantIncome', 'CoapplicantIncome', 'LoanAmount',\n",
       "       'Loan_Amount_Term', 'Credit_History', 'Property_Area'],\n",
       "      dtype='object')"
      ]
     },
     "execution_count": 5,
     "metadata": {},
     "output_type": "execute_result"
    }
   ],
   "source": [
    "test.columns"
   ]
  },
  {
   "cell_type": "code",
   "execution_count": 6,
   "id": "desperate-petersburg",
   "metadata": {},
   "outputs": [
    {
     "data": {
      "text/plain": [
       "Loan_ID               object\n",
       "Gender                object\n",
       "Married               object\n",
       "Dependents            object\n",
       "Education             object\n",
       "Self_Employed         object\n",
       "ApplicantIncome        int64\n",
       "CoapplicantIncome    float64\n",
       "LoanAmount           float64\n",
       "Loan_Amount_Term     float64\n",
       "Credit_History       float64\n",
       "Property_Area         object\n",
       "Loan_Status           object\n",
       "dtype: object"
      ]
     },
     "execution_count": 6,
     "metadata": {},
     "output_type": "execute_result"
    }
   ],
   "source": [
    "train.dtypes"
   ]
  },
  {
   "cell_type": "markdown",
   "id": "successful-blank",
   "metadata": {},
   "source": [
    "#### _Shape of Dataframe_"
   ]
  },
  {
   "cell_type": "code",
   "execution_count": 7,
   "id": "coastal-electric",
   "metadata": {},
   "outputs": [
    {
     "data": {
      "text/plain": [
       "(614, 13)"
      ]
     },
     "execution_count": 7,
     "metadata": {},
     "output_type": "execute_result"
    }
   ],
   "source": [
    "train.shape"
   ]
  },
  {
   "cell_type": "code",
   "execution_count": 8,
   "id": "equipped-karaoke",
   "metadata": {},
   "outputs": [
    {
     "data": {
      "text/plain": [
       "(367, 12)"
      ]
     },
     "execution_count": 8,
     "metadata": {},
     "output_type": "execute_result"
    }
   ],
   "source": [
    "test.shape"
   ]
  },
  {
   "cell_type": "markdown",
   "id": "present-actress",
   "metadata": {},
   "source": [
    "### _Univariate Analysis_"
   ]
  },
  {
   "cell_type": "markdown",
   "id": "single-brand",
   "metadata": {},
   "source": [
    "#### _Target Variable_"
   ]
  },
  {
   "cell_type": "code",
   "execution_count": 9,
   "id": "treated-video",
   "metadata": {},
   "outputs": [
    {
     "data": {
      "text/plain": [
       "Y    422\n",
       "N    192\n",
       "Name: Loan_Status, dtype: int64"
      ]
     },
     "execution_count": 9,
     "metadata": {},
     "output_type": "execute_result"
    }
   ],
   "source": [
    "train['Loan_Status'].value_counts()"
   ]
  },
  {
   "cell_type": "code",
   "execution_count": 10,
   "id": "enhanced-auditor",
   "metadata": {},
   "outputs": [
    {
     "data": {
      "text/plain": [
       "Y    0.687296\n",
       "N    0.312704\n",
       "Name: Loan_Status, dtype: float64"
      ]
     },
     "execution_count": 10,
     "metadata": {},
     "output_type": "execute_result"
    }
   ],
   "source": [
    "train['Loan_Status'].value_counts(normalize='true')"
   ]
  },
  {
   "cell_type": "code",
   "execution_count": 11,
   "id": "alternative-accountability",
   "metadata": {},
   "outputs": [
    {
     "data": {
      "text/plain": [
       "<AxesSubplot:>"
      ]
     },
     "execution_count": 11,
     "metadata": {},
     "output_type": "execute_result"
    },
    {
     "data": {
      "image/png": "[encoded data removed]",
      "text/plain": [
       "<Figure size 432x288 with 1 Axes>"
      ]
     },
     "metadata": {
      "needs_background": "light"
     },
     "output_type": "display_data"
    }
   ],
   "source": [
    "train['Loan_Status'].value_counts().plot.bar(color='orange')"
   ]
  },
  {
   "cell_type": "markdown",
   "id": "interpreted-dividend",
   "metadata": {},
   "source": [
    "#### _Categorical Features_"
   ]
  },
  {
   "cell_type": "code",
   "execution_count": 12,
   "id": "flexible-promise",
   "metadata": {},
   "outputs": [
    {
     "data": {
      "text/plain": [
       "<AxesSubplot:title={'center':'Credit History'}>"
      ]
     },
     "execution_count": 12,
     "metadata": {},
     "output_type": "execute_result"
    },
    {
     "data": {
      "image/png": "[encoded data removed]",
      "text/plain": [
       "<Figure size 720x720 with 4 Axes>"
      ]
     },
     "metadata": {
      "needs_background": "light"
     },
     "output_type": "display_data"
    }
   ],
   "source": [
    "plt.figure(1)\n",
    "plt.subplot(221)\n",
    "train['Gender'].value_counts(normalize='true').plot.bar(title= 'Gender', figsize= (10,10), color='orange')\n",
    "plt.subplot(222)\n",
    "train['Married'].value_counts(normalize='true').plot.bar(title='Married')\n",
    "plt.subplot(223)\n",
    "train['Self_Employed'].value_counts(normalize='true').plot.bar(title='Self Employed', color='green')\n",
    "plt.subplot(224)\n",
    "train['Credit_History'].value_counts(normalize='true').plot.bar(title='Credit History', color='red')"
   ]
  },
  {
   "cell_type": "markdown",
   "id": "indirect-bryan",
   "metadata": {},
   "source": [
    "#### _Feature Variables (Ordinal)_"
   ]
  },
  {
   "cell_type": "code",
   "execution_count": 13,
   "id": "stone-interval",
   "metadata": {},
   "outputs": [
    {
     "data": {
      "text/plain": [
       "<AxesSubplot:title={'center':'Property Area'}>"
      ]
     },
     "execution_count": 13,
     "metadata": {},
     "output_type": "execute_result"
    },
    {
     "data": {
      "image/png": "[encoded data removed]",
      "text/plain": [
       "<Figure size 1440x360 with 3 Axes>"
      ]
     },
     "metadata": {
      "needs_background": "light"
     },
     "output_type": "display_data"
    }
   ],
   "source": [
    "plt.figure(1)\n",
    "plt.subplot(131)\n",
    "train['Dependents'].value_counts(normalize='true').plot.bar(title='Number of Dependents', figsize=(20,5))\n",
    "\n",
    "plt.subplot(132)\n",
    "train['Education'].value_counts(normalize='true').plot.bar(title= \"Education\")\n",
    "\n",
    "plt.subplot(133)\n",
    "train[\"Property_Area\"].value_counts(normalize= 'true').plot.bar(title= \"Property Area\")"
   ]
  },
  {
   "cell_type": "markdown",
   "id": "anonymous-prophet",
   "metadata": {},
   "source": [
    "#### _Independent Variable (Numerical)_"
   ]
  },
  {
   "cell_type": "code",
   "execution_count": 14,
   "id": "impressed-pierre",
   "metadata": {},
   "outputs": [
    {
     "data": {
      "image/png": "[encoded data removed]",
      "text/plain": [
       "<Figure size 360x360 with 1 Axes>"
      ]
     },
     "metadata": {
      "needs_background": "light"
     },
     "output_type": "display_data"
    },
    {
     "data": {
      "image/png": "[encoded data removed]",
      "text/plain": [
       "<Figure size 360x360 with 1 Axes>"
      ]
     },
     "metadata": {
      "needs_background": "light"
     },
     "output_type": "display_data"
    }
   ],
   "source": [
    "sns.displot(train['ApplicantIncome']);\n",
    "plt.show()\n",
    "train['ApplicantIncome'].plot.box(figsize=(5,5))\n",
    "plt.show()\n"
   ]
  },
  {
   "cell_type": "code",
   "execution_count": 15,
   "id": "historical-theory",
   "metadata": {},
   "outputs": [
    {
     "data": {
      "image/png": "[encoded data removed]",
      "text/plain": [
       "<Figure size 360x360 with 1 Axes>"
      ]
     },
     "metadata": {
      "needs_background": "light"
     },
     "output_type": "display_data"
    },
    {
     "data": {
      "image/png": "[encoded data removed]",
      "text/plain": [
       "<Figure size 360x360 with 1 Axes>"
      ]
     },
     "metadata": {
      "needs_background": "light"
     },
     "output_type": "display_data"
    }
   ],
   "source": [
    "sns.displot(train['CoapplicantIncome']);\n",
    "plt.show()\n",
    "train['CoapplicantIncome'].plot.box(figsize=(5,5))\n",
    "plt.show()"
   ]
  },
  {
   "cell_type": "code",
   "execution_count": 16,
   "id": "going-momentum",
   "metadata": {},
   "outputs": [
    {
     "data": {
      "image/png": "[encoded data removed]",
      "text/plain": [
       "<Figure size 360x360 with 1 Axes>"
      ]
     },
     "metadata": {
      "needs_background": "light"
     },
     "output_type": "display_data"
    },
    {
     "data": {
      "image/png": "[encoded data removed]",
      "text/plain": [
       "<Figure size 360x360 with 1 Axes>"
      ]
     },
     "metadata": {
      "needs_background": "light"
     },
     "output_type": "display_data"
    }
   ],
   "source": [
    "sns.displot(train['LoanAmount']);\n",
    "plt.show()\n",
    "train['LoanAmount'].plot.box(figsize=(5,5))\n",
    "plt.show()"
   ]
  },
  {
   "cell_type": "markdown",
   "id": "opposite-cincinnati",
   "metadata": {},
   "source": [
    "### _Bivariate Analysis_"
   ]
  },
  {
   "cell_type": "markdown",
   "id": "proof-purpose",
   "metadata": {},
   "source": [
    "#### _Categorical Independent Variable vs Target Variable_"
   ]
  },
  {
   "cell_type": "code",
   "execution_count": 17,
   "id": "patent-simulation",
   "metadata": {},
   "outputs": [
    {
     "name": "stdout",
     "output_type": "stream",
     "text": [
      "Loan_Status    N    Y\n",
      "Gender               \n",
      "Female        37   75\n",
      "Male         150  339\n"
     ]
    }
   ],
   "source": [
    "Gender=pd.crosstab(train['Gender'], train['Loan_Status'])\n",
    "print(Gender)"
   ]
  },
  {
   "cell_type": "code",
   "execution_count": 18,
   "id": "third-prize",
   "metadata": {},
   "outputs": [
    {
     "data": {
      "text/plain": [
       "<AxesSubplot:xlabel='Gender'>"
      ]
     },
     "execution_count": 18,
     "metadata": {},
     "output_type": "execute_result"
    },
    {
     "data": {
      "image/png": "[encoded data removed]",
      "text/plain": [
       "<Figure size 432x288 with 1 Axes>"
      ]
     },
     "metadata": {
      "needs_background": "light"
     },
     "output_type": "display_data"
    }
   ],
   "source": [
    "Gender.div(Gender.sum(1).astype(float), axis=0).plot(kind=\"bar\", stacked=True)"
   ]
  },
  {
   "cell_type": "code",
   "execution_count": 19,
   "id": "unauthorized-platform",
   "metadata": {},
   "outputs": [
    {
     "data": {
      "text/plain": [
       "<AxesSubplot:xlabel='Property_Area'>"
      ]
     },
     "execution_count": 19,
     "metadata": {},
     "output_type": "execute_result"
    },
    {
     "data": {
      "image/png": "[encoded data removed]",
      "text/plain": [
       "<Figure size 360x360 with 1 Axes>"
      ]
     },
     "metadata": {
      "needs_background": "light"
     },
     "output_type": "display_data"
    },
    {
     "data": {
      "image/png": "[encoded data removed]",
      "text/plain": [
       "<Figure size 360x360 with 1 Axes>"
      ]
     },
     "metadata": {
      "needs_background": "light"
     },
     "output_type": "display_data"
    },
    {
     "data": {
      "image/png": "[encoded data removed]",
      "text/plain": [
       "<Figure size 360x360 with 1 Axes>"
      ]
     },
     "metadata": {
      "needs_background": "light"
     },
     "output_type": "display_data"
    },
    {
     "data": {
      "image/png": "[encoded data removed]",
      "text/plain": [
       "<Figure size 360x360 with 1 Axes>"
      ]
     },
     "metadata": {
      "needs_background": "light"
     },
     "output_type": "display_data"
    },
    {
     "data": {
      "image/png": "[encoded data removed]",
      "text/plain": [
       "<Figure size 360x360 with 1 Axes>"
      ]
     },
     "metadata": {
      "needs_background": "light"
     },
     "output_type": "display_data"
    },
    {
     "data": {
      "image/png": "[encoded data removed]",
      "text/plain": [
       "<Figure size 360x360 with 1 Axes>"
      ]
     },
     "metadata": {
      "needs_background": "light"
     },
     "output_type": "display_data"
    }
   ],
   "source": [
    "Married= pd.crosstab (train['Married'], train['Loan_Status'])\n",
    "Dependents= pd.crosstab(train['Dependents'], train['Loan_Status'])\n",
    "Education= pd.crosstab(train['Education'], train['Loan_Status'])\n",
    "Self_Employed= pd.crosstab(train['Self_Employed'], train['Loan_Status'])\n",
    "Married.div(Married.sum(1).astype(float), axis=0).plot(kind='bar', stacked= True, figsize=(5,5))\n",
    "Dependents.div(Dependents.sum(1).astype(float), axis=0).plot(kind='bar', stacked= True, figsize=(5,5))\n",
    "Education.div(Education.sum(1).astype(float), axis=0).plot(kind='bar', stacked= True, figsize=(5,5))\n",
    "Self_Employed.div(Self_Employed.sum(1).astype(float), axis=0).plot(kind='bar',stacked= True, figsize=(5,5))\n",
    "Credit_History= pd.crosstab(train['Credit_History'], train['Loan_Status'])\n",
    "Property_Area= pd.crosstab(train['Property_Area'], train['Loan_Status'])\n",
    "Credit_History.div(Credit_History.sum(1).astype(float), axis=0).plot(kind='bar',stacked= True, figsize=(5,5))\n",
    "Property_Area.div(Property_Area.sum(1).astype(float), axis=0).plot(kind='bar',stacked= True, figsize=(5,5))\n",
    "                                                        \n"
   ]
  },
  {
   "cell_type": "markdown",
   "id": "swiss-chicken",
   "metadata": {},
   "source": [
    "### _Numerical Independent Variable vs Target Variable_"
   ]
  },
  {
   "cell_type": "markdown",
   "id": "similar-think",
   "metadata": {},
   "source": [
    "#### _Analyzing Applicant Income effect on Loan Status_"
   ]
  },
  {
   "cell_type": "code",
   "execution_count": 20,
   "id": "linear-citizenship",
   "metadata": {},
   "outputs": [
    {
     "data": {
      "text/plain": [
       "<AxesSubplot:xlabel='Loan_Status'>"
      ]
     },
     "execution_count": 20,
     "metadata": {},
     "output_type": "execute_result"
    },
    {
     "data": {
      "image/png": "[encoded data removed]",
      "text/plain": [
       "<Figure size 432x288 with 1 Axes>"
      ]
     },
     "metadata": {
      "needs_background": "light"
     },
     "output_type": "display_data"
    }
   ],
   "source": [
    "train.groupby('Loan_Status')['ApplicantIncome'].mean().plot.bar()"
   ]
  },
  {
   "cell_type": "code",
   "execution_count": 21,
   "id": "heard-pocket",
   "metadata": {},
   "outputs": [],
   "source": [
    "bins=[0,2500,4000,6000,81000]\n",
    "group=['Low', 'Average', 'High', 'Very High']\n",
    "train['Income_bin']=pd.cut(train['ApplicantIncome'], bins, labels=group)"
   ]
  },
  {
   "cell_type": "code",
   "execution_count": 22,
   "id": "focal-season",
   "metadata": {},
   "outputs": [
    {
     "name": "stdout",
     "output_type": "stream",
     "text": [
      "Loan_Status   N    Y\n",
      "Income_bin          \n",
      "Low          34   74\n",
      "Average      67  159\n",
      "High         45   98\n",
      "Very High    46   91\n"
     ]
    }
   ],
   "source": [
    "Income_bin=pd.crosstab(train['Income_bin'], train['Loan_Status'])\n",
    "print(Income_bin)"
   ]
  },
  {
   "cell_type": "code",
   "execution_count": 23,
   "id": "immune-requirement",
   "metadata": {},
   "outputs": [
    {
     "data": {
      "text/plain": [
       "Text(0, 0.5, 'Percentage')"
      ]
     },
     "execution_count": 23,
     "metadata": {},
     "output_type": "execute_result"
    },
    {
     "data": {
      "image/png": "[encoded data removed]",
      "text/plain": [
       "<Figure size 432x288 with 1 Axes>"
      ]
     },
     "metadata": {
      "needs_background": "light"
     },
     "output_type": "display_data"
    }
   ],
   "source": [
    "Income_bin.div(Income_bin.sum(1).astype(float),axis=0).plot(kind=\"bar\", stacked=True)\n",
    "plt.xlabel(\"Applicant Income\")\n",
    "plt.ylabel(\"Percentage\")"
   ]
  },
  {
   "cell_type": "markdown",
   "id": "junior-partnership",
   "metadata": {},
   "source": [
    "#### _Analyzing Effect of CoApplicant Income on Loan Status_"
   ]
  },
  {
   "cell_type": "code",
   "execution_count": 24,
   "id": "advised-introduction",
   "metadata": {},
   "outputs": [],
   "source": [
    "bins=[0,1000,3000,42000]; group= ['low', 'average',' high']\n",
    "train['CoApplicant_Income_Bin']= pd.cut(train['CoapplicantIncome'],bins, labels= group)"
   ]
  },
  {
   "cell_type": "code",
   "execution_count": 25,
   "id": "loving-magazine",
   "metadata": {},
   "outputs": [
    {
     "data": {
      "text/plain": [
       "<AxesSubplot:xlabel='CoApplicant_Income_Bin'>"
      ]
     },
     "execution_count": 25,
     "metadata": {},
     "output_type": "execute_result"
    },
    {
     "data": {
      "image/png": "[encoded data removed]",
      "text/plain": [
       "<Figure size 432x288 with 1 Axes>"
      ]
     },
     "metadata": {
      "needs_background": "light"
     },
     "output_type": "display_data"
    }
   ],
   "source": [
    "CoApplicant_Income_Bin= pd.crosstab(train['CoApplicant_Income_Bin'], train['Loan_Status'])\n",
    "CoApplicant_Income_Bin.div(CoApplicant_Income_Bin.sum(1).astype(float),axis=0).plot(kind='bar', stacked= True)"
   ]
  },
  {
   "cell_type": "code",
   "execution_count": 26,
   "id": "composed-sunday",
   "metadata": {},
   "outputs": [],
   "source": [
    "train['Total_Income']=train['ApplicantIncome']+ train['CoapplicantIncome']\n",
    "bins=[0,2500,4000,6000,81000]\n",
    "group=['Low', 'Average', 'High', 'Very High']\n",
    "train['Total_Income_Bin']= pd.cut(train['Total_Income'], bins, labels= group)"
   ]
  },
  {
   "cell_type": "code",
   "execution_count": 27,
   "id": "demonstrated-digit",
   "metadata": {},
   "outputs": [
    {
     "data": {
      "text/plain": [
       "Text(0, 0.5, 'Percentage')"
      ]
     },
     "execution_count": 27,
     "metadata": {},
     "output_type": "execute_result"
    },
    {
     "data": {
      "image/png": "[encoded data removed]",
      "text/plain": [
       "<Figure size 432x288 with 1 Axes>"
      ]
     },
     "metadata": {
      "needs_background": "light"
     },
     "output_type": "display_data"
    }
   ],
   "source": [
    "Total_Income_Bin= pd.crosstab(train['Total_Income_Bin'], train['Loan_Status'])\n",
    "Total_Income_Bin.div(Total_Income_Bin.sum(1).astype(float),axis=0).plot(kind='bar', stacked=True)\n",
    "plt.xlabel(\"Total Income\")\n",
    "plt.ylabel(\"Percentage\")"
   ]
  },
  {
   "cell_type": "markdown",
   "id": "first-demonstration",
   "metadata": {},
   "source": [
    "#### _Analyzing the loan Amount effect on Loan Status_"
   ]
  },
  {
   "cell_type": "code",
   "execution_count": 28,
   "id": "conditional-infection",
   "metadata": {},
   "outputs": [
    {
     "data": {
      "text/plain": [
       "Text(0, 0.5, 'Percentage')"
      ]
     },
     "execution_count": 28,
     "metadata": {},
     "output_type": "execute_result"
    },
    {
     "data": {
      "image/png": "[encoded data removed]",
      "text/plain": [
       "<Figure size 432x288 with 1 Axes>"
      ]
     },
     "metadata": {
      "needs_background": "light"
     },
     "output_type": "display_data"
    }
   ],
   "source": [
    "bins=[0,100,200,700]; group=['low', 'average', 'high']\n",
    "train['LoanAmount_bin']= pd.cut(train['LoanAmount'], bins, labels= group)\n",
    "LoanAmount_bin=pd.crosstab(train['LoanAmount_bin'], train['Loan_Status'])\n",
    "LoanAmount_bin.div(LoanAmount_bin.sum(1).astype(float),axis=0).plot(kind='bar', stacked=True)\n",
    "plt.xlabel(\"Loan Amount\")\n",
    "plt.ylabel(\"Percentage\")"
   ]
  },
  {
   "cell_type": "markdown",
   "id": "close-great",
   "metadata": {},
   "source": [
    "### Data Preprocessing"
   ]
  },
  {
   "cell_type": "markdown",
   "id": "psychological-advisory",
   "metadata": {},
   "source": [
    "#### _Dropping Bins_"
   ]
  },
  {
   "cell_type": "code",
   "execution_count": 29,
   "id": "statistical-belfast",
   "metadata": {},
   "outputs": [],
   "source": [
    "train= train.drop(['Income_bin', 'LoanAmount_bin', 'Total_Income_Bin', 'CoApplicant_Income_Bin', 'Total_Income'], axis=1)"
   ]
  },
  {
   "cell_type": "code",
   "execution_count": 30,
   "id": "prostate-machine",
   "metadata": {},
   "outputs": [],
   "source": [
    "train['Dependents'].replace(\"3+\",3, inplace= True)\n",
    "test['Dependents'].replace(\"3+\",3,inplace=True)\n",
    "train['Loan_Status'].replace('N',0, inplace= True)"
   ]
  },
  {
   "cell_type": "markdown",
   "id": "hollywood-massachusetts",
   "metadata": {},
   "source": [
    "### _Missing Values and Outlier Treatment_"
   ]
  },
  {
   "cell_type": "markdown",
   "id": "immune-rebate",
   "metadata": {},
   "source": [
    "#### _Missing Values_"
   ]
  },
  {
   "cell_type": "code",
   "execution_count": 31,
   "id": "authorized-bosnia",
   "metadata": {},
   "outputs": [
    {
     "data": {
      "text/plain": [
       "Loan_ID               0\n",
       "Gender               13\n",
       "Married               3\n",
       "Dependents           15\n",
       "Education             0\n",
       "Self_Employed        32\n",
       "ApplicantIncome       0\n",
       "CoapplicantIncome     0\n",
       "LoanAmount           22\n",
       "Loan_Amount_Term     14\n",
       "Credit_History       50\n",
       "Property_Area         0\n",
       "Loan_Status           0\n",
       "dtype: int64"
      ]
     },
     "execution_count": 31,
     "metadata": {},
     "output_type": "execute_result"
    }
   ],
   "source": [
    "train.isnull().sum()"
   ]
  },
  {
   "cell_type": "markdown",
   "id": "simple-space",
   "metadata": {},
   "source": [
    "#### _Imputation for Numerical and Categorical Data_"
   ]
  },
  {
   "cell_type": "markdown",
   "id": "adjacent-alexandria",
   "metadata": {},
   "source": [
    "#### _Encoding Gender and Married_"
   ]
  },
  {
   "cell_type": "code",
   "execution_count": 32,
   "id": "revised-courtesy",
   "metadata": {},
   "outputs": [],
   "source": [
    "from sklearn.impute import SimpleImputer\n",
    "imputer= SimpleImputer(missing_values= np.nan, strategy= 'most_frequent')\n",
    "imputer.fit(train.iloc[:,1:3])\n",
    "train.iloc[:,1:3]= imputer.transform(train.iloc[:,1:3])"
   ]
  },
  {
   "cell_type": "code",
   "execution_count": 33,
   "id": "familiar-straight",
   "metadata": {},
   "outputs": [
    {
     "data": {
      "text/plain": [
       "Loan_ID               0\n",
       "Gender                0\n",
       "Married               0\n",
       "Dependents           15\n",
       "Education             0\n",
       "Self_Employed        32\n",
       "ApplicantIncome       0\n",
       "CoapplicantIncome     0\n",
       "LoanAmount           22\n",
       "Loan_Amount_Term     14\n",
       "Credit_History       50\n",
       "Property_Area         0\n",
       "Loan_Status           0\n",
       "dtype: int64"
      ]
     },
     "execution_count": 33,
     "metadata": {},
     "output_type": "execute_result"
    }
   ],
   "source": [
    "train.isnull().sum()"
   ]
  },
  {
   "cell_type": "markdown",
   "id": "growing-worse",
   "metadata": {},
   "source": [
    "#### _Dependents_"
   ]
  },
  {
   "cell_type": "code",
   "execution_count": 34,
   "id": "announced-violence",
   "metadata": {},
   "outputs": [],
   "source": [
    "imp= SimpleImputer(missing_values= np.nan, strategy='median')\n",
    "x= train.iloc[:,3]\n",
    "imp.fit(pd.DataFrame(x))\n",
    "x= imp.transform(pd.DataFrame(x))\n",
    "train.iloc[:,3]=x"
   ]
  },
  {
   "cell_type": "code",
   "execution_count": 35,
   "id": "changing-frederick",
   "metadata": {},
   "outputs": [
    {
     "data": {
      "text/plain": [
       "Loan_ID               0\n",
       "Gender                0\n",
       "Married               0\n",
       "Dependents            0\n",
       "Education             0\n",
       "Self_Employed        32\n",
       "ApplicantIncome       0\n",
       "CoapplicantIncome     0\n",
       "LoanAmount           22\n",
       "Loan_Amount_Term     14\n",
       "Credit_History       50\n",
       "Property_Area         0\n",
       "Loan_Status           0\n",
       "dtype: int64"
      ]
     },
     "execution_count": 35,
     "metadata": {},
     "output_type": "execute_result"
    }
   ],
   "source": [
    "train.isnull().sum()"
   ]
  },
  {
   "cell_type": "markdown",
   "id": "assisted-skill",
   "metadata": {},
   "source": [
    "#### _Self Employed_"
   ]
  },
  {
   "cell_type": "code",
   "execution_count": 36,
   "id": "strange-victim",
   "metadata": {},
   "outputs": [],
   "source": [
    "imp= SimpleImputer(missing_values= np.nan, strategy='most_frequent')\n",
    "x= train.iloc[:,5]\n",
    "imp.fit(pd.DataFrame(x))\n",
    "x= imp.transform(pd.DataFrame(x))\n",
    "train.iloc[:,5]=x"
   ]
  },
  {
   "cell_type": "code",
   "execution_count": 37,
   "id": "defensive-cowboy",
   "metadata": {},
   "outputs": [
    {
     "data": {
      "text/plain": [
       "Loan_ID               0\n",
       "Gender                0\n",
       "Married               0\n",
       "Dependents            0\n",
       "Education             0\n",
       "Self_Employed         0\n",
       "ApplicantIncome       0\n",
       "CoapplicantIncome     0\n",
       "LoanAmount           22\n",
       "Loan_Amount_Term     14\n",
       "Credit_History       50\n",
       "Property_Area         0\n",
       "Loan_Status           0\n",
       "dtype: int64"
      ]
     },
     "execution_count": 37,
     "metadata": {},
     "output_type": "execute_result"
    }
   ],
   "source": [
    "train.isnull().sum()"
   ]
  },
  {
   "cell_type": "markdown",
   "id": "fleet-measurement",
   "metadata": {},
   "source": [
    "#### _Loan Amount_ & _Loan Amount Term_"
   ]
  },
  {
   "cell_type": "code",
   "execution_count": 38,
   "id": "cardiovascular-venture",
   "metadata": {},
   "outputs": [],
   "source": [
    "impu2= SimpleImputer(missing_values= np.nan, strategy= 'median')\n",
    "impu2.fit(train.iloc[:,8:10])\n",
    "train.iloc[:,8:10]= impu2.transform(train.iloc[:,8:10])"
   ]
  },
  {
   "cell_type": "code",
   "execution_count": 39,
   "id": "alert-crest",
   "metadata": {},
   "outputs": [
    {
     "data": {
      "text/plain": [
       "Loan_ID               0\n",
       "Gender                0\n",
       "Married               0\n",
       "Dependents            0\n",
       "Education             0\n",
       "Self_Employed         0\n",
       "ApplicantIncome       0\n",
       "CoapplicantIncome     0\n",
       "LoanAmount            0\n",
       "Loan_Amount_Term      0\n",
       "Credit_History       50\n",
       "Property_Area         0\n",
       "Loan_Status           0\n",
       "dtype: int64"
      ]
     },
     "execution_count": 39,
     "metadata": {},
     "output_type": "execute_result"
    }
   ],
   "source": [
    "train.isnull().sum()"
   ]
  },
  {
   "cell_type": "markdown",
   "id": "tender-highlight",
   "metadata": {},
   "source": [
    "#### _Credit History_"
   ]
  },
  {
   "cell_type": "code",
   "execution_count": 40,
   "id": "visible-blues",
   "metadata": {},
   "outputs": [],
   "source": [
    "imp3= SimpleImputer(missing_values= np.nan, strategy='most_frequent')\n",
    "z= train.iloc[:,10]\n",
    "imp.fit(pd.DataFrame(z))\n",
    "z= imp.transform(pd.DataFrame(z))\n",
    "train.iloc[:,10]=x"
   ]
  },
  {
   "cell_type": "code",
   "execution_count": 41,
   "id": "improved-leisure",
   "metadata": {},
   "outputs": [
    {
     "data": {
      "text/plain": [
       "Loan_ID              0\n",
       "Gender               0\n",
       "Married              0\n",
       "Dependents           0\n",
       "Education            0\n",
       "Self_Employed        0\n",
       "ApplicantIncome      0\n",
       "CoapplicantIncome    0\n",
       "LoanAmount           0\n",
       "Loan_Amount_Term     0\n",
       "Credit_History       0\n",
       "Property_Area        0\n",
       "Loan_Status          0\n",
       "dtype: int64"
      ]
     },
     "execution_count": 41,
     "metadata": {},
     "output_type": "execute_result"
    }
   ],
   "source": [
    "train.isnull().sum()"
   ]
  },
  {
   "cell_type": "markdown",
   "id": "mounted-capability",
   "metadata": {},
   "source": [
    "### Test Data"
   ]
  },
  {
   "cell_type": "code",
   "execution_count": 42,
   "id": "pressed-momentum",
   "metadata": {},
   "outputs": [
    {
     "data": {
      "text/plain": [
       "Loan_ID               0\n",
       "Gender               11\n",
       "Married               0\n",
       "Dependents           10\n",
       "Education             0\n",
       "Self_Employed        23\n",
       "ApplicantIncome       0\n",
       "CoapplicantIncome     0\n",
       "LoanAmount            5\n",
       "Loan_Amount_Term      6\n",
       "Credit_History       29\n",
       "Property_Area         0\n",
       "dtype: int64"
      ]
     },
     "execution_count": 42,
     "metadata": {},
     "output_type": "execute_result"
    }
   ],
   "source": [
    "test.isnull().sum()"
   ]
  },
  {
   "cell_type": "code",
   "execution_count": 43,
   "id": "abroad-hazard",
   "metadata": {},
   "outputs": [],
   "source": [
    "testimp= SimpleImputer(missing_values= np.nan, strategy='most_frequent')\n",
    "xtest= test.iloc[:,1]\n",
    "imp.fit(pd.DataFrame(xtest))\n",
    "xtest= imp.transform(pd.DataFrame(xtest))\n",
    "test.iloc[:,1]=xtest"
   ]
  },
  {
   "cell_type": "code",
   "execution_count": 44,
   "id": "instructional-heater",
   "metadata": {},
   "outputs": [],
   "source": [
    "imp22= SimpleImputer(missing_values= np.nan, strategy='median')\n",
    "x= test.iloc[:,3]\n",
    "imp22.fit(pd.DataFrame(x))\n",
    "x= imp22.transform(pd.DataFrame(x))\n",
    "test.iloc[:,3]=x"
   ]
  },
  {
   "cell_type": "code",
   "execution_count": 45,
   "id": "legislative-wallet",
   "metadata": {},
   "outputs": [
    {
     "data": {
      "text/plain": [
       "Loan_ID               0\n",
       "Gender                0\n",
       "Married               0\n",
       "Dependents            0\n",
       "Education             0\n",
       "Self_Employed        23\n",
       "ApplicantIncome       0\n",
       "CoapplicantIncome     0\n",
       "LoanAmount            5\n",
       "Loan_Amount_Term      6\n",
       "Credit_History       29\n",
       "Property_Area         0\n",
       "dtype: int64"
      ]
     },
     "execution_count": 45,
     "metadata": {},
     "output_type": "execute_result"
    }
   ],
   "source": [
    "test.isnull().sum()"
   ]
  },
  {
   "cell_type": "code",
   "execution_count": 46,
   "id": "coastal-channels",
   "metadata": {},
   "outputs": [],
   "source": [
    "testimp3= SimpleImputer(missing_values= np.nan, strategy='most_frequent')\n",
    "xtest3= test.iloc[:,5]\n",
    "imp.fit(pd.DataFrame(xtest3))\n",
    "xtest3= imp.transform(pd.DataFrame(xtest3))\n",
    "test.iloc[:,5]=xtest3"
   ]
  },
  {
   "cell_type": "code",
   "execution_count": 47,
   "id": "saving-intro",
   "metadata": {},
   "outputs": [
    {
     "data": {
      "text/plain": [
       "Loan_ID               0\n",
       "Gender                0\n",
       "Married               0\n",
       "Dependents            0\n",
       "Education             0\n",
       "Self_Employed         0\n",
       "ApplicantIncome       0\n",
       "CoapplicantIncome     0\n",
       "LoanAmount            5\n",
       "Loan_Amount_Term      6\n",
       "Credit_History       29\n",
       "Property_Area         0\n",
       "dtype: int64"
      ]
     },
     "execution_count": 47,
     "metadata": {},
     "output_type": "execute_result"
    }
   ],
   "source": [
    "test.isnull().sum()"
   ]
  },
  {
   "cell_type": "code",
   "execution_count": 48,
   "id": "dangerous-livestock",
   "metadata": {},
   "outputs": [],
   "source": [
    "testimp4= SimpleImputer(missing_values= np.nan, strategy='median')\n",
    "xtest4= test.iloc[:,8:10]\n",
    "imp.fit(pd.DataFrame(xtest4))\n",
    "xtest4= imp.transform(pd.DataFrame(xtest4))\n",
    "test.iloc[:,8:10]=xtest4"
   ]
  },
  {
   "cell_type": "code",
   "execution_count": 49,
   "id": "ecological-johnston",
   "metadata": {},
   "outputs": [
    {
     "data": {
      "text/plain": [
       "Loan_ID               0\n",
       "Gender                0\n",
       "Married               0\n",
       "Dependents            0\n",
       "Education             0\n",
       "Self_Employed         0\n",
       "ApplicantIncome       0\n",
       "CoapplicantIncome     0\n",
       "LoanAmount            0\n",
       "Loan_Amount_Term      0\n",
       "Credit_History       29\n",
       "Property_Area         0\n",
       "dtype: int64"
      ]
     },
     "execution_count": 49,
     "metadata": {},
     "output_type": "execute_result"
    }
   ],
   "source": [
    "test.isnull().sum()"
   ]
  },
  {
   "cell_type": "code",
   "execution_count": 50,
   "id": "exclusive-butter",
   "metadata": {},
   "outputs": [],
   "source": [
    "testimp5= SimpleImputer(missing_values= np.nan, strategy='most_frequent')\n",
    "xtest5= test.iloc[:,10]\n",
    "imp.fit(pd.DataFrame(xtest5))\n",
    "xtest5= imp.transform(pd.DataFrame(xtest5))\n",
    "test.iloc[:,10]=xtest5"
   ]
  },
  {
   "cell_type": "code",
   "execution_count": 51,
   "id": "studied-retailer",
   "metadata": {},
   "outputs": [
    {
     "data": {
      "text/plain": [
       "Loan_ID              0\n",
       "Gender               0\n",
       "Married              0\n",
       "Dependents           0\n",
       "Education            0\n",
       "Self_Employed        0\n",
       "ApplicantIncome      0\n",
       "CoapplicantIncome    0\n",
       "LoanAmount           0\n",
       "Loan_Amount_Term     0\n",
       "Credit_History       0\n",
       "Property_Area        0\n",
       "dtype: int64"
      ]
     },
     "execution_count": 51,
     "metadata": {},
     "output_type": "execute_result"
    }
   ],
   "source": [
    "test.isnull().sum()"
   ]
  },
  {
   "cell_type": "markdown",
   "id": "polyphonic-relative",
   "metadata": {},
   "source": [
    "### _Outlier Treatment_"
   ]
  },
  {
   "cell_type": "markdown",
   "id": "manufactured-fence",
   "metadata": {},
   "source": [
    "#### _Taking Log Transformation_"
   ]
  },
  {
   "cell_type": "code",
   "execution_count": 52,
   "id": "partial-logging",
   "metadata": {},
   "outputs": [
    {
     "data": {
      "text/plain": [
       "<AxesSubplot:>"
      ]
     },
     "execution_count": 52,
     "metadata": {},
     "output_type": "execute_result"
    },
    {
     "data": {
      "image/png": "[encoded data removed]",
      "text/plain": [
       "<Figure size 432x288 with 1 Axes>"
      ]
     },
     "metadata": {
      "needs_background": "light"
     },
     "output_type": "display_data"
    }
   ],
   "source": [
    "train['LoanAmount_log']= np.log(train['LoanAmount'])\n",
    "train['LoanAmount_log'].hist(bins=20)"
   ]
  },
  {
   "cell_type": "code",
   "execution_count": 53,
   "id": "oriental-transport",
   "metadata": {},
   "outputs": [
    {
     "data": {
      "text/plain": [
       "<AxesSubplot:>"
      ]
     },
     "execution_count": 53,
     "metadata": {},
     "output_type": "execute_result"
    },
    {
     "data": {
      "image/png": "[encoded data removed]",
      "text/plain": [
       "<Figure size 432x288 with 1 Axes>"
      ]
     },
     "metadata": {
      "needs_background": "light"
     },
     "output_type": "display_data"
    }
   ],
   "source": [
    "test['LoanAmount_log']= np.log(test['LoanAmount'])\n",
    "test['LoanAmount_log'].hist(bins=20)"
   ]
  },
  {
   "cell_type": "code",
   "execution_count": 54,
   "id": "middle-labor",
   "metadata": {},
   "outputs": [
    {
     "data": {
      "text/plain": [
       "<AxesSubplot:>"
      ]
     },
     "execution_count": 54,
     "metadata": {},
     "output_type": "execute_result"
    },
    {
     "data": {
      "image/png": "[encoded data removed]",
      "text/plain": [
       "<Figure size 432x288 with 1 Axes>"
      ]
     },
     "metadata": {
      "needs_background": "light"
     },
     "output_type": "display_data"
    }
   ],
   "source": [
    "train['ApplicantIncome_log']= np.log(train['ApplicantIncome'])\n",
    "train['ApplicantIncome_log'].hist(bins=20)"
   ]
  },
  {
   "cell_type": "code",
   "execution_count": 55,
   "id": "heated-marker",
   "metadata": {},
   "outputs": [
    {
     "data": {
      "text/plain": [
       "<AxesSubplot:>"
      ]
     },
     "execution_count": 55,
     "metadata": {},
     "output_type": "execute_result"
    },
    {
     "data": {
      "image/png": "[encoded data removed]",
      "text/plain": [
       "<Figure size 432x288 with 1 Axes>"
      ]
     },
     "metadata": {
      "needs_background": "light"
     },
     "output_type": "display_data"
    }
   ],
   "source": [
    "test['ApplicantIncome_log']= np.log(test['ApplicantIncome']+1)\n",
    "test['ApplicantIncome_log'].hist(bins=20)"
   ]
  },
  {
   "cell_type": "code",
   "execution_count": 56,
   "id": "saved-awareness",
   "metadata": {},
   "outputs": [
    {
     "data": {
      "text/plain": [
       "<AxesSubplot:>"
      ]
     },
     "execution_count": 56,
     "metadata": {},
     "output_type": "execute_result"
    },
    {
     "data": {
      "image/png": "[encoded data removed]",
      "text/plain": [
       "<Figure size 432x288 with 1 Axes>"
      ]
     },
     "metadata": {
      "needs_background": "light"
     },
     "output_type": "display_data"
    }
   ],
   "source": [
    "train['CoApplicantIncome_log']= np.log(train['ApplicantIncome']+1)\n",
    "train['ApplicantIncome_log'].hist(bins=20)"
   ]
  },
  {
   "cell_type": "code",
   "execution_count": 57,
   "id": "thrown-public",
   "metadata": {},
   "outputs": [
    {
     "data": {
      "text/plain": [
       "<AxesSubplot:>"
      ]
     },
     "execution_count": 57,
     "metadata": {},
     "output_type": "execute_result"
    },
    {
     "data": {
      "image/png": "[encoded data removed]",
      "text/plain": [
       "<Figure size 432x288 with 1 Axes>"
      ]
     },
     "metadata": {
      "needs_background": "light"
     },
     "output_type": "display_data"
    }
   ],
   "source": [
    "test['CoApplicantIncome_log']= np.log(test['ApplicantIncome']+1)\n",
    "test['ApplicantIncome_log'].hist(bins=20)"
   ]
  },
  {
   "cell_type": "markdown",
   "id": "light-secretary",
   "metadata": {},
   "source": [
    "#### _Dropping LoanID_"
   ]
  },
  {
   "cell_type": "code",
   "execution_count": 58,
   "id": "equivalent-middle",
   "metadata": {},
   "outputs": [],
   "source": [
    "train= train.drop('Loan_ID', axis=1)\n",
    "test= test.drop('Loan_ID', axis=1)"
   ]
  },
  {
   "cell_type": "markdown",
   "id": "vocal-teach",
   "metadata": {},
   "source": [
    "### _Preparing Data for Logistic Regression_"
   ]
  },
  {
   "cell_type": "code",
   "execution_count": 59,
   "id": "supposed-enough",
   "metadata": {},
   "outputs": [],
   "source": [
    "train['Loan_Status'].replace(0,'N', inplace=True)"
   ]
  },
  {
   "cell_type": "code",
   "execution_count": null,
   "id": "enclosed-catch",
   "metadata": {},
   "outputs": [],
   "source": []
  },
  {
   "cell_type": "markdown",
   "id": "economic-indonesian",
   "metadata": {},
   "source": [
    "#### _Dropping Redundant Features_"
   ]
  },
  {
   "cell_type": "code",
   "execution_count": 60,
   "id": "contained-absolute",
   "metadata": {},
   "outputs": [],
   "source": [
    "train= train.drop('CoapplicantIncome', axis=1)\n",
    "train= train.drop('ApplicantIncome', axis=1)\n",
    "train= train.drop('LoanAmount', axis=1)"
   ]
  },
  {
   "cell_type": "code",
   "execution_count": 61,
   "id": "continued-champion",
   "metadata": {},
   "outputs": [
    {
     "name": "stdout",
     "output_type": "stream",
     "text": [
      "     Gender Married  Dependents     Education Self_Employed  Loan_Amount_Term  \\\n",
      "0      Male      No         0.0      Graduate            No             360.0   \n",
      "1      Male     Yes         1.0      Graduate            No             360.0   \n",
      "2      Male     Yes         0.0      Graduate           Yes             360.0   \n",
      "3      Male     Yes         0.0  Not Graduate            No             360.0   \n",
      "4      Male      No         0.0      Graduate            No             360.0   \n",
      "..      ...     ...         ...           ...           ...               ...   \n",
      "609  Female      No         0.0      Graduate            No             360.0   \n",
      "610    Male     Yes         3.0      Graduate            No             180.0   \n",
      "611    Male     Yes         1.0      Graduate            No             360.0   \n",
      "612    Male     Yes         2.0      Graduate            No             360.0   \n",
      "613  Female      No         0.0      Graduate           Yes             360.0   \n",
      "\n",
      "     Credit_History Property_Area Loan_Status  LoanAmount_log  \\\n",
      "0                 0         Urban           Y        4.852030   \n",
      "1                 0         Rural           N        4.852030   \n",
      "2                 1         Urban           Y        4.189655   \n",
      "3                 0         Urban           Y        4.787492   \n",
      "4                 0         Urban           Y        4.948760   \n",
      "..              ...           ...         ...             ...   \n",
      "609               0         Rural           Y        4.262680   \n",
      "610               0         Rural           Y        3.688879   \n",
      "611               0         Urban           Y        5.533389   \n",
      "612               0         Urban           Y        5.231109   \n",
      "613               1     Semiurban           N        4.890349   \n",
      "\n",
      "     ApplicantIncome_log  CoApplicantIncome_log  \n",
      "0               8.674026               8.674197  \n",
      "1               8.430109               8.430327  \n",
      "2               8.006368               8.006701  \n",
      "3               7.856707               7.857094  \n",
      "4               8.699515               8.699681  \n",
      "..                   ...                    ...  \n",
      "609             7.972466               7.972811  \n",
      "610             8.320205               8.320448  \n",
      "611             8.996157               8.996280  \n",
      "612             8.933664               8.933796  \n",
      "613             8.430109               8.430327  \n",
      "\n",
      "[614 rows x 12 columns]\n"
     ]
    }
   ],
   "source": [
    "\n",
    "train['Credit_History'].replace('No', 0, inplace= True)\n",
    "train['Credit_History'].replace('Yes', 1, inplace= True)\n",
    "print(train)"
   ]
  },
  {
   "cell_type": "code",
   "execution_count": 62,
   "id": "coupled-magnitude",
   "metadata": {},
   "outputs": [],
   "source": [
    "test= test.drop('CoapplicantIncome', axis=1)\n",
    "test= test.drop('ApplicantIncome', axis=1)\n",
    "test= test.drop('LoanAmount', axis=1)"
   ]
  },
  {
   "cell_type": "code",
   "execution_count": 63,
   "id": "first-spread",
   "metadata": {},
   "outputs": [
    {
     "name": "stdout",
     "output_type": "stream",
     "text": [
      "    Gender Married  Dependents     Education Self_Employed  Loan_Amount_Term  \\\n",
      "0     Male     Yes         0.0      Graduate            No             360.0   \n",
      "1     Male     Yes         1.0      Graduate            No             360.0   \n",
      "2     Male     Yes         2.0      Graduate            No             360.0   \n",
      "3     Male     Yes         2.0      Graduate            No             360.0   \n",
      "4     Male      No         0.0  Not Graduate            No             360.0   \n",
      "..     ...     ...         ...           ...           ...               ...   \n",
      "362   Male     Yes         3.0  Not Graduate           Yes             360.0   \n",
      "363   Male     Yes         0.0      Graduate            No             360.0   \n",
      "364   Male      No         0.0      Graduate            No             360.0   \n",
      "365   Male     Yes         0.0      Graduate            No             360.0   \n",
      "366   Male      No         0.0      Graduate           Yes             180.0   \n",
      "\n",
      "     Credit_History Property_Area  LoanAmount_log  ApplicantIncome_log  \\\n",
      "0               1.0         Urban        4.700480             8.651899   \n",
      "1               1.0         Urban        4.836282             8.031710   \n",
      "2               1.0         Urban        5.337538             8.517393   \n",
      "3               1.0         Urban        4.605170             7.758333   \n",
      "4               1.0         Urban        4.356709             8.094684   \n",
      "..              ...           ...             ...                  ...   \n",
      "362             1.0         Urban        4.727388             8.296547   \n",
      "363             1.0         Urban        4.744932             8.333030   \n",
      "364             1.0     Semiurban        4.836282             8.086718   \n",
      "365             1.0         Rural        5.062595             8.517393   \n",
      "366             1.0         Rural        4.584967             9.127067   \n",
      "\n",
      "     CoApplicantIncome_log  \n",
      "0                 8.651899  \n",
      "1                 8.031710  \n",
      "2                 8.517393  \n",
      "3                 7.758333  \n",
      "4                 8.094684  \n",
      "..                     ...  \n",
      "362               8.296547  \n",
      "363               8.333030  \n",
      "364               8.086718  \n",
      "365               8.517393  \n",
      "366               9.127067  \n",
      "\n",
      "[367 rows x 11 columns]\n"
     ]
    }
   ],
   "source": [
    "print(test)"
   ]
  },
  {
   "cell_type": "markdown",
   "id": "magnetic-height",
   "metadata": {},
   "source": [
    "### _Encoding Categorical Features_"
   ]
  },
  {
   "cell_type": "code",
   "execution_count": 64,
   "id": "civil-example",
   "metadata": {},
   "outputs": [],
   "source": [
    "x= train.drop('Loan_Status',1)\n",
    "y=train.Loan_Status"
   ]
  },
  {
   "cell_type": "code",
   "execution_count": 65,
   "id": "alternative-fault",
   "metadata": {},
   "outputs": [
    {
     "name": "stdout",
     "output_type": "stream",
     "text": [
      "     Dependents  Loan_Amount_Term  Credit_History  LoanAmount_log  \\\n",
      "0           0.0             360.0               0        4.852030   \n",
      "1           1.0             360.0               0        4.852030   \n",
      "2           0.0             360.0               1        4.189655   \n",
      "3           0.0             360.0               0        4.787492   \n",
      "4           0.0             360.0               0        4.948760   \n",
      "..          ...               ...             ...             ...   \n",
      "609         0.0             360.0               0        4.262680   \n",
      "610         3.0             180.0               0        3.688879   \n",
      "611         1.0             360.0               0        5.533389   \n",
      "612         2.0             360.0               0        5.231109   \n",
      "613         0.0             360.0               1        4.890349   \n",
      "\n",
      "     ApplicantIncome_log  CoApplicantIncome_log  Gender_Female  Gender_Male  \\\n",
      "0               8.674026               8.674197              0            1   \n",
      "1               8.430109               8.430327              0            1   \n",
      "2               8.006368               8.006701              0            1   \n",
      "3               7.856707               7.857094              0            1   \n",
      "4               8.699515               8.699681              0            1   \n",
      "..                   ...                    ...            ...          ...   \n",
      "609             7.972466               7.972811              1            0   \n",
      "610             8.320205               8.320448              0            1   \n",
      "611             8.996157               8.996280              0            1   \n",
      "612             8.933664               8.933796              0            1   \n",
      "613             8.430109               8.430327              1            0   \n",
      "\n",
      "     Married_No  Married_Yes  Education_Graduate  Education_Not Graduate  \\\n",
      "0             1            0                   1                       0   \n",
      "1             0            1                   1                       0   \n",
      "2             0            1                   1                       0   \n",
      "3             0            1                   0                       1   \n",
      "4             1            0                   1                       0   \n",
      "..          ...          ...                 ...                     ...   \n",
      "609           1            0                   1                       0   \n",
      "610           0            1                   1                       0   \n",
      "611           0            1                   1                       0   \n",
      "612           0            1                   1                       0   \n",
      "613           1            0                   1                       0   \n",
      "\n",
      "     Self_Employed_No  Self_Employed_Yes  Property_Area_Rural  \\\n",
      "0                   1                  0                    0   \n",
      "1                   1                  0                    1   \n",
      "2                   0                  1                    0   \n",
      "3                   1                  0                    0   \n",
      "4                   1                  0                    0   \n",
      "..                ...                ...                  ...   \n",
      "609                 1                  0                    1   \n",
      "610                 1                  0                    1   \n",
      "611                 1                  0                    0   \n",
      "612                 1                  0                    0   \n",
      "613                 0                  1                    0   \n",
      "\n",
      "     Property_Area_Semiurban  Property_Area_Urban  \n",
      "0                          0                    1  \n",
      "1                          0                    0  \n",
      "2                          0                    1  \n",
      "3                          0                    1  \n",
      "4                          0                    1  \n",
      "..                       ...                  ...  \n",
      "609                        0                    0  \n",
      "610                        0                    0  \n",
      "611                        0                    1  \n",
      "612                        0                    1  \n",
      "613                        1                    0  \n",
      "\n",
      "[614 rows x 17 columns]\n"
     ]
    }
   ],
   "source": [
    "x= pd.get_dummies(x)\n",
    "print(x)"
   ]
  },
  {
   "cell_type": "code",
   "execution_count": 66,
   "id": "spread-bubble",
   "metadata": {},
   "outputs": [],
   "source": [
    "test=pd.get_dummies(test)"
   ]
  },
  {
   "cell_type": "code",
   "execution_count": 67,
   "id": "offshore-worker",
   "metadata": {},
   "outputs": [
    {
     "name": "stdout",
     "output_type": "stream",
     "text": [
      "     Dependents  Loan_Amount_Term  Credit_History  LoanAmount_log  \\\n",
      "0           0.0             360.0             1.0        4.700480   \n",
      "1           1.0             360.0             1.0        4.836282   \n",
      "2           2.0             360.0             1.0        5.337538   \n",
      "3           2.0             360.0             1.0        4.605170   \n",
      "4           0.0             360.0             1.0        4.356709   \n",
      "..          ...               ...             ...             ...   \n",
      "362         3.0             360.0             1.0        4.727388   \n",
      "363         0.0             360.0             1.0        4.744932   \n",
      "364         0.0             360.0             1.0        4.836282   \n",
      "365         0.0             360.0             1.0        5.062595   \n",
      "366         0.0             180.0             1.0        4.584967   \n",
      "\n",
      "     ApplicantIncome_log  CoApplicantIncome_log  Gender_Female  Gender_Male  \\\n",
      "0               8.651899               8.651899              0            1   \n",
      "1               8.031710               8.031710              0            1   \n",
      "2               8.517393               8.517393              0            1   \n",
      "3               7.758333               7.758333              0            1   \n",
      "4               8.094684               8.094684              0            1   \n",
      "..                   ...                    ...            ...          ...   \n",
      "362             8.296547               8.296547              0            1   \n",
      "363             8.333030               8.333030              0            1   \n",
      "364             8.086718               8.086718              0            1   \n",
      "365             8.517393               8.517393              0            1   \n",
      "366             9.127067               9.127067              0            1   \n",
      "\n",
      "     Married_No  Married_Yes  Education_Graduate  Education_Not Graduate  \\\n",
      "0             0            1                   1                       0   \n",
      "1             0            1                   1                       0   \n",
      "2             0            1                   1                       0   \n",
      "3             0            1                   1                       0   \n",
      "4             1            0                   0                       1   \n",
      "..          ...          ...                 ...                     ...   \n",
      "362           0            1                   0                       1   \n",
      "363           0            1                   1                       0   \n",
      "364           1            0                   1                       0   \n",
      "365           0            1                   1                       0   \n",
      "366           1            0                   1                       0   \n",
      "\n",
      "     Self_Employed_No  Self_Employed_Yes  Property_Area_Rural  \\\n",
      "0                   1                  0                    0   \n",
      "1                   1                  0                    0   \n",
      "2                   1                  0                    0   \n",
      "3                   1                  0                    0   \n",
      "4                   1                  0                    0   \n",
      "..                ...                ...                  ...   \n",
      "362                 0                  1                    0   \n",
      "363                 1                  0                    0   \n",
      "364                 1                  0                    0   \n",
      "365                 1                  0                    1   \n",
      "366                 0                  1                    1   \n",
      "\n",
      "     Property_Area_Semiurban  Property_Area_Urban  \n",
      "0                          0                    1  \n",
      "1                          0                    1  \n",
      "2                          0                    1  \n",
      "3                          0                    1  \n",
      "4                          0                    1  \n",
      "..                       ...                  ...  \n",
      "362                        0                    1  \n",
      "363                        0                    1  \n",
      "364                        1                    0  \n",
      "365                        0                    0  \n",
      "366                        0                    0  \n",
      "\n",
      "[367 rows x 17 columns]\n"
     ]
    }
   ],
   "source": [
    "print(test)"
   ]
  },
  {
   "cell_type": "markdown",
   "id": "strategic-slave",
   "metadata": {},
   "source": [
    "#### _Splitting Training Data for Cross Validation_"
   ]
  },
  {
   "cell_type": "code",
   "execution_count": 68,
   "id": "governing-sociology",
   "metadata": {},
   "outputs": [],
   "source": [
    "from sklearn.model_selection import train_test_split\n",
    "X_train, X_CV, Y_train, Y_CV= train_test_split(x,y, test_size=0.2, random_state=0)"
   ]
  },
  {
   "cell_type": "code",
   "execution_count": 69,
   "id": "worthy-sleeve",
   "metadata": {},
   "outputs": [
    {
     "data": {
      "text/plain": [
       "LogisticRegression(solver='liblinear')"
      ]
     },
     "execution_count": 69,
     "metadata": {},
     "output_type": "execute_result"
    }
   ],
   "source": [
    "from sklearn.linear_model import LogisticRegression\n",
    "model = LogisticRegression(solver='liblinear')\n",
    "model.fit(X_train, Y_train)"
   ]
  },
  {
   "cell_type": "code",
   "execution_count": 70,
   "id": "entitled-force",
   "metadata": {},
   "outputs": [],
   "source": [
    "from sklearn.metrics import accuracy_score\n",
    "pred_cv= model.predict(X_CV)"
   ]
  },
  {
   "cell_type": "code",
   "execution_count": 71,
   "id": "generous-essay",
   "metadata": {},
   "outputs": [
    {
     "data": {
      "text/plain": [
       "0.7154471544715447"
      ]
     },
     "execution_count": 71,
     "metadata": {},
     "output_type": "execute_result"
    }
   ],
   "source": [
    "accuracy_score(Y_CV, pred_cv)"
   ]
  },
  {
   "cell_type": "code",
   "execution_count": 72,
   "id": "experienced-parallel",
   "metadata": {},
   "outputs": [],
   "source": [
    "pred_test= model.predict(test)"
   ]
  },
  {
   "cell_type": "code",
   "execution_count": 73,
   "id": "consistent-fusion",
   "metadata": {},
   "outputs": [],
   "source": [
    "submission= pd.read_csv('sample_submission_49d68Cx.csv')"
   ]
  },
  {
   "cell_type": "code",
   "execution_count": 74,
   "id": "planned-letters",
   "metadata": {},
   "outputs": [],
   "source": [
    "submission['Loan_Status']= pred_test\n",
    "submission['Loan_ID']=test_original['Loan_ID']"
   ]
  },
  {
   "cell_type": "code",
   "execution_count": 75,
   "id": "earned-alexander",
   "metadata": {},
   "outputs": [
    {
     "name": "stdout",
     "output_type": "stream",
     "text": [
      "      Loan_ID Loan_Status\n",
      "0    LP001015           Y\n",
      "1    LP001022           Y\n",
      "2    LP001031           Y\n",
      "3    LP001035           Y\n",
      "4    LP001051           Y\n",
      "5    LP001054           Y\n",
      "6    LP001055           Y\n",
      "7    LP001056           Y\n",
      "8    LP001059           Y\n",
      "9    LP001067           Y\n",
      "10   LP001078           Y\n",
      "11   LP001082           Y\n",
      "12   LP001083           Y\n",
      "13   LP001094           Y\n",
      "14   LP001096           Y\n",
      "15   LP001099           Y\n",
      "16   LP001105           Y\n",
      "17   LP001107           Y\n",
      "18   LP001108           Y\n",
      "19   LP001115           Y\n",
      "20   LP001121           Y\n",
      "21   LP001124           Y\n",
      "22   LP001128           Y\n",
      "23   LP001135           Y\n",
      "24   LP001149           Y\n",
      "25   LP001153           N\n",
      "26   LP001163           Y\n",
      "27   LP001169           Y\n",
      "28   LP001174           Y\n",
      "29   LP001176           Y\n",
      "30   LP001177           Y\n",
      "31   LP001183           Y\n",
      "32   LP001185           Y\n",
      "33   LP001187           Y\n",
      "34   LP001190           Y\n",
      "35   LP001203           Y\n",
      "36   LP001208           Y\n",
      "37   LP001210           Y\n",
      "38   LP001211           Y\n",
      "39   LP001219           Y\n",
      "40   LP001220           Y\n",
      "41   LP001221           Y\n",
      "42   LP001226           Y\n",
      "43   LP001230           Y\n",
      "44   LP001231           Y\n",
      "45   LP001232           Y\n",
      "46   LP001237           Y\n",
      "47   LP001242           Y\n",
      "48   LP001268           Y\n",
      "49   LP001270           Y\n",
      "50   LP001284           Y\n",
      "51   LP001287           Y\n",
      "52   LP001291           Y\n",
      "53   LP001298           Y\n",
      "54   LP001312           Y\n",
      "55   LP001313           Y\n",
      "56   LP001317           Y\n",
      "57   LP001321           Y\n",
      "58   LP001323           Y\n",
      "59   LP001324           Y\n",
      "60   LP001332           Y\n",
      "61   LP001335           Y\n",
      "62   LP001338           Y\n",
      "63   LP001347           Y\n",
      "64   LP001348           Y\n",
      "65   LP001351           Y\n",
      "66   LP001352           Y\n",
      "67   LP001358           Y\n",
      "68   LP001359           Y\n",
      "69   LP001361           Y\n",
      "70   LP001366           Y\n",
      "71   LP001368           Y\n",
      "72   LP001375           Y\n",
      "73   LP001380           Y\n",
      "74   LP001386           Y\n",
      "75   LP001400           Y\n",
      "76   LP001407           Y\n",
      "77   LP001413           Y\n",
      "78   LP001415           Y\n",
      "79   LP001419           Y\n",
      "80   LP001420           Y\n",
      "81   LP001428           Y\n",
      "82   LP001445           Y\n",
      "83   LP001446           Y\n",
      "84   LP001450           Y\n",
      "85   LP001452           Y\n",
      "86   LP001455           Y\n",
      "87   LP001466           Y\n",
      "88   LP001471           Y\n",
      "89   LP001472           Y\n",
      "90   LP001475           Y\n",
      "91   LP001483           Y\n",
      "92   LP001486           Y\n",
      "93   LP001490           Y\n",
      "94   LP001496           Y\n",
      "95   LP001499           Y\n",
      "96   LP001500           Y\n",
      "97   LP001501           Y\n",
      "98   LP001517           Y\n",
      "99   LP001527           Y\n",
      "100  LP001534           Y\n",
      "101  LP001542           Y\n",
      "102  LP001547           Y\n",
      "103  LP001548           Y\n",
      "104  LP001558           Y\n",
      "105  LP001561           Y\n",
      "106  LP001563           Y\n",
      "107  LP001567           Y\n",
      "108  LP001568           Y\n",
      "109  LP001573           Y\n",
      "110  LP001584           Y\n",
      "111  LP001587           Y\n",
      "112  LP001589           Y\n",
      "113  LP001591           Y\n",
      "114  LP001599           Y\n",
      "115  LP001601           Y\n",
      "116  LP001607           N\n",
      "117  LP001611           Y\n",
      "118  LP001613           Y\n",
      "119  LP001622           Y\n",
      "120  LP001627           Y\n",
      "121  LP001650           Y\n",
      "122  LP001651           Y\n",
      "123  LP001652           Y\n",
      "124  LP001655           Y\n",
      "125  LP001660           Y\n",
      "126  LP001662           Y\n",
      "127  LP001663           Y\n",
      "128  LP001667           Y\n",
      "129  LP001695           Y\n",
      "130  LP001703           Y\n",
      "131  LP001718           Y\n",
      "132  LP001728           Y\n",
      "133  LP001735           Y\n",
      "134  LP001737           Y\n",
      "135  LP001739           Y\n",
      "136  LP001742           Y\n",
      "137  LP001757           Y\n",
      "138  LP001769           Y\n",
      "139  LP001771           Y\n",
      "140  LP001785           Y\n",
      "141  LP001787           Y\n",
      "142  LP001789           Y\n",
      "143  LP001791           Y\n",
      "144  LP001794           Y\n",
      "145  LP001797           Y\n",
      "146  LP001815           Y\n",
      "147  LP001817           N\n",
      "148  LP001818           Y\n",
      "149  LP001822           Y\n",
      "150  LP001827           Y\n",
      "151  LP001831           Y\n",
      "152  LP001842           Y\n",
      "153  LP001853           Y\n",
      "154  LP001855           Y\n",
      "155  LP001857           Y\n",
      "156  LP001862           Y\n",
      "157  LP001867           Y\n",
      "158  LP001878           Y\n",
      "159  LP001881           Y\n",
      "160  LP001886           Y\n",
      "161  LP001906           Y\n",
      "162  LP001909           Y\n",
      "163  LP001911           Y\n",
      "164  LP001921           Y\n",
      "165  LP001923           Y\n",
      "166  LP001933           N\n",
      "167  LP001943           Y\n",
      "168  LP001950           Y\n",
      "169  LP001959           Y\n",
      "170  LP001961           Y\n",
      "171  LP001973           Y\n",
      "172  LP001975           Y\n",
      "173  LP001979           Y\n",
      "174  LP001995           Y\n",
      "175  LP001999           Y\n",
      "176  LP002007           Y\n",
      "177  LP002009           Y\n",
      "178  LP002016           Y\n",
      "179  LP002017           Y\n",
      "180  LP002018           Y\n",
      "181  LP002027           Y\n",
      "182  LP002028           Y\n",
      "183  LP002042           Y\n",
      "184  LP002045           Y\n",
      "185  LP002046           Y\n",
      "186  LP002047           Y\n",
      "187  LP002056           Y\n",
      "188  LP002057           Y\n",
      "189  LP002059           Y\n",
      "190  LP002062           Y\n",
      "191  LP002064           Y\n",
      "192  LP002069           Y\n",
      "193  LP002070           Y\n",
      "194  LP002077           Y\n",
      "195  LP002083           Y\n",
      "196  LP002090           Y\n",
      "197  LP002096           Y\n",
      "198  LP002099           Y\n",
      "199  LP002102           Y\n",
      "200  LP002105           Y\n",
      "201  LP002107           Y\n",
      "202  LP002111           Y\n",
      "203  LP002117           Y\n",
      "204  LP002118           Y\n",
      "205  LP002123           Y\n",
      "206  LP002125           Y\n",
      "207  LP002148           Y\n",
      "208  LP002152           Y\n",
      "209  LP002165           N\n",
      "210  LP002167           Y\n",
      "211  LP002168           Y\n",
      "212  LP002172           Y\n",
      "213  LP002176           Y\n",
      "214  LP002183           Y\n",
      "215  LP002184           Y\n",
      "216  LP002186           Y\n",
      "217  LP002192           Y\n",
      "218  LP002195           Y\n",
      "219  LP002208           Y\n",
      "220  LP002212           Y\n",
      "221  LP002240           Y\n",
      "222  LP002245           Y\n",
      "223  LP002253           Y\n",
      "224  LP002256           Y\n",
      "225  LP002257           Y\n",
      "226  LP002264           Y\n",
      "227  LP002270           Y\n",
      "228  LP002279           Y\n",
      "229  LP002286           Y\n",
      "230  LP002294           Y\n",
      "231  LP002298           Y\n",
      "232  LP002306           Y\n",
      "233  LP002310           Y\n",
      "234  LP002311           Y\n",
      "235  LP002316           Y\n",
      "236  LP002321           Y\n",
      "237  LP002325           Y\n",
      "238  LP002326           Y\n",
      "239  LP002329           Y\n",
      "240  LP002333           Y\n",
      "241  LP002339           Y\n",
      "242  LP002344           Y\n",
      "243  LP002346           Y\n",
      "244  LP002354           Y\n",
      "245  LP002355           Y\n",
      "246  LP002358           Y\n",
      "247  LP002360           Y\n",
      "248  LP002375           Y\n",
      "249  LP002376           Y\n",
      "250  LP002383           Y\n",
      "251  LP002385           Y\n",
      "252  LP002389           Y\n",
      "253  LP002394           Y\n",
      "254  LP002397           Y\n",
      "255  LP002399           Y\n",
      "256  LP002400           Y\n",
      "257  LP002402           Y\n",
      "258  LP002412           Y\n",
      "259  LP002415           Y\n",
      "260  LP002417           Y\n",
      "261  LP002420           Y\n",
      "262  LP002425           Y\n",
      "263  LP002433           Y\n",
      "264  LP002440           Y\n",
      "265  LP002441           Y\n",
      "266  LP002442           Y\n",
      "267  LP002445           Y\n",
      "268  LP002450           Y\n",
      "269  LP002471           Y\n",
      "270  LP002476           Y\n",
      "271  LP002482           Y\n",
      "272  LP002485           Y\n",
      "273  LP002495           Y\n",
      "274  LP002496           Y\n",
      "275  LP002523           Y\n",
      "276  LP002542           Y\n",
      "277  LP002550           Y\n",
      "278  LP002551           Y\n",
      "279  LP002553           Y\n",
      "280  LP002554           Y\n",
      "281  LP002561           Y\n",
      "282  LP002566           Y\n",
      "283  LP002568           Y\n",
      "284  LP002570           Y\n",
      "285  LP002572           Y\n",
      "286  LP002581           Y\n",
      "287  LP002584           Y\n",
      "288  LP002592           Y\n",
      "289  LP002593           Y\n",
      "290  LP002599           Y\n",
      "291  LP002604           Y\n",
      "292  LP002605           N\n",
      "293  LP002609           Y\n",
      "294  LP002610           Y\n",
      "295  LP002612           Y\n",
      "296  LP002614           Y\n",
      "297  LP002630           Y\n",
      "298  LP002635           Y\n",
      "299  LP002639           Y\n",
      "300  LP002644           Y\n",
      "301  LP002651           Y\n",
      "302  LP002654           Y\n",
      "303  LP002657           Y\n",
      "304  LP002711           Y\n",
      "305  LP002712           Y\n",
      "306  LP002721           Y\n",
      "307  LP002735           Y\n",
      "308  LP002744           Y\n",
      "309  LP002745           Y\n",
      "310  LP002746           Y\n",
      "311  LP002747           Y\n",
      "312  LP002754           Y\n",
      "313  LP002759           Y\n",
      "314  LP002760           Y\n",
      "315  LP002766           Y\n",
      "316  LP002769           Y\n",
      "317  LP002774           Y\n",
      "318  LP002775           N\n",
      "319  LP002781           Y\n",
      "320  LP002782           Y\n",
      "321  LP002786           Y\n",
      "322  LP002790           Y\n",
      "323  LP002791           Y\n",
      "324  LP002793           Y\n",
      "325  LP002802           Y\n",
      "326  LP002803           Y\n",
      "327  LP002805           Y\n",
      "328  LP002806           Y\n",
      "329  LP002816           Y\n",
      "330  LP002823           Y\n",
      "331  LP002825           Y\n",
      "332  LP002826           Y\n",
      "333  LP002843           Y\n",
      "334  LP002849           Y\n",
      "335  LP002850           Y\n",
      "336  LP002853           Y\n",
      "337  LP002856           Y\n",
      "338  LP002857           Y\n",
      "339  LP002858           Y\n",
      "340  LP002860           Y\n",
      "341  LP002867           Y\n",
      "342  LP002869           Y\n",
      "343  LP002870           Y\n",
      "344  LP002876           Y\n",
      "345  LP002878           Y\n",
      "346  LP002879           Y\n",
      "347  LP002885           Y\n",
      "348  LP002890           Y\n",
      "349  LP002891           Y\n",
      "350  LP002899           Y\n",
      "351  LP002901           Y\n",
      "352  LP002907           Y\n",
      "353  LP002920           Y\n",
      "354  LP002921           Y\n",
      "355  LP002932           Y\n",
      "356  LP002935           Y\n",
      "357  LP002952           Y\n",
      "358  LP002954           Y\n",
      "359  LP002962           Y\n",
      "360  LP002965           Y\n",
      "361  LP002969           Y\n",
      "362  LP002971           Y\n",
      "363  LP002975           Y\n",
      "364  LP002980           Y\n",
      "365  LP002986           Y\n",
      "366  LP002989           Y\n"
     ]
    }
   ],
   "source": [
    "print(submission.to_string())"
   ]
  },
  {
   "cell_type": "code",
   "execution_count": 76,
   "id": "chicken-penalty",
   "metadata": {},
   "outputs": [],
   "source": [
    "pd.DataFrame(submission, columns= ['Loan_ID', 'Loan_Status']).to_csv('logistic.csv')"
   ]
  },
  {
   "cell_type": "code",
   "execution_count": null,
   "id": "olive-conditions",
   "metadata": {},
   "outputs": [],
   "source": []
  }
 ],
 "metadata": {
  "kernelspec": {
   "display_name": "Python 3",
   "language": "python",
   "name": "python3"
  },
  "language_info": {
   "codemirror_mode": {
    "name": "ipython",
    "version": 3
   },
   "file_extension": ".py",
   "mimetype": "text/x-python",
   "name": "python",
   "nbconvert_exporter": "python",
   "pygments_lexer": "ipython3",
   "version": "3.9.1"
  }
 },
 "nbformat": 4,
 "nbformat_minor": 5
}
